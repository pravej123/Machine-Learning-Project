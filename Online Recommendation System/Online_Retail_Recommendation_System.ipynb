{
 "cells": [
  {
   "cell_type": "markdown",
   "id": "338f2339",
   "metadata": {},
   "source": [
    "# 🛒 Online Retail Recommendation System\n",
    "This project builds a product recommendation system using online retail transaction data and machine learning techniques (item-based collaborative filtering)."
   ]
  },
  {
   "cell_type": "code",
   "execution_count": 1,
   "id": "d09b9ec1",
   "metadata": {},
   "outputs": [],
   "source": [
    "import pandas as pd\n",
    "import numpy as np\n",
    "from sklearn.metrics.pairwise import cosine_similarity\n",
    "from scipy.sparse import csr_matrix\n",
    "import warnings\n",
    "warnings.filterwarnings('ignore')"
   ]
  },
  {
   "cell_type": "markdown",
   "id": "bb2884c8-e3a7-432f-a94f-6db652e8e853",
   "metadata": {},
   "source": [
    "# Step 2: Load Dataset (Csv File)"
   ]
  },
  {
   "cell_type": "code",
   "execution_count": 21,
   "id": "46ae0b1d",
   "metadata": {},
   "outputs": [
    {
     "name": "stdout",
     "output_type": "stream",
     "text": [
      " Data Loaded Successfully\n"
     ]
    },
    {
     "data": {
      "text/html": [
       "<div>\n",
       "<style scoped>\n",
       "    .dataframe tbody tr th:only-of-type {\n",
       "        vertical-align: middle;\n",
       "    }\n",
       "\n",
       "    .dataframe tbody tr th {\n",
       "        vertical-align: top;\n",
       "    }\n",
       "\n",
       "    .dataframe thead th {\n",
       "        text-align: right;\n",
       "    }\n",
       "</style>\n",
       "<table border=\"1\" class=\"dataframe\">\n",
       "  <thead>\n",
       "    <tr style=\"text-align: right;\">\n",
       "      <th></th>\n",
       "      <th>InvoiceNo</th>\n",
       "      <th>StockCode</th>\n",
       "      <th>Description</th>\n",
       "      <th>Quantity</th>\n",
       "      <th>InvoiceDate</th>\n",
       "      <th>UnitPrice</th>\n",
       "      <th>CustomerID</th>\n",
       "      <th>Country</th>\n",
       "    </tr>\n",
       "  </thead>\n",
       "  <tbody>\n",
       "    <tr>\n",
       "      <th>0</th>\n",
       "      <td>536365</td>\n",
       "      <td>85123A</td>\n",
       "      <td>WHITE HANGING HEART T-LIGHT HOLDER</td>\n",
       "      <td>6</td>\n",
       "      <td>12/1/2010 8:26</td>\n",
       "      <td>2.55</td>\n",
       "      <td>17850.0</td>\n",
       "      <td>United Kingdom</td>\n",
       "    </tr>\n",
       "    <tr>\n",
       "      <th>1</th>\n",
       "      <td>536365</td>\n",
       "      <td>71053</td>\n",
       "      <td>WHITE METAL LANTERN</td>\n",
       "      <td>6</td>\n",
       "      <td>12/1/2010 8:26</td>\n",
       "      <td>3.39</td>\n",
       "      <td>17850.0</td>\n",
       "      <td>United Kingdom</td>\n",
       "    </tr>\n",
       "    <tr>\n",
       "      <th>2</th>\n",
       "      <td>536365</td>\n",
       "      <td>84406B</td>\n",
       "      <td>CREAM CUPID HEARTS COAT HANGER</td>\n",
       "      <td>8</td>\n",
       "      <td>12/1/2010 8:26</td>\n",
       "      <td>2.75</td>\n",
       "      <td>17850.0</td>\n",
       "      <td>United Kingdom</td>\n",
       "    </tr>\n",
       "    <tr>\n",
       "      <th>3</th>\n",
       "      <td>536365</td>\n",
       "      <td>84029G</td>\n",
       "      <td>KNITTED UNION FLAG HOT WATER BOTTLE</td>\n",
       "      <td>6</td>\n",
       "      <td>12/1/2010 8:26</td>\n",
       "      <td>3.39</td>\n",
       "      <td>17850.0</td>\n",
       "      <td>United Kingdom</td>\n",
       "    </tr>\n",
       "    <tr>\n",
       "      <th>4</th>\n",
       "      <td>536365</td>\n",
       "      <td>84029E</td>\n",
       "      <td>RED WOOLLY HOTTIE WHITE HEART.</td>\n",
       "      <td>6</td>\n",
       "      <td>12/1/2010 8:26</td>\n",
       "      <td>3.39</td>\n",
       "      <td>17850.0</td>\n",
       "      <td>United Kingdom</td>\n",
       "    </tr>\n",
       "    <tr>\n",
       "      <th>...</th>\n",
       "      <td>...</td>\n",
       "      <td>...</td>\n",
       "      <td>...</td>\n",
       "      <td>...</td>\n",
       "      <td>...</td>\n",
       "      <td>...</td>\n",
       "      <td>...</td>\n",
       "      <td>...</td>\n",
       "    </tr>\n",
       "    <tr>\n",
       "      <th>541904</th>\n",
       "      <td>581587</td>\n",
       "      <td>22613</td>\n",
       "      <td>PACK OF 20 SPACEBOY NAPKINS</td>\n",
       "      <td>12</td>\n",
       "      <td>12/9/2011 12:50</td>\n",
       "      <td>0.85</td>\n",
       "      <td>12680.0</td>\n",
       "      <td>France</td>\n",
       "    </tr>\n",
       "    <tr>\n",
       "      <th>541905</th>\n",
       "      <td>581587</td>\n",
       "      <td>22899</td>\n",
       "      <td>CHILDREN'S APRON DOLLY GIRL</td>\n",
       "      <td>6</td>\n",
       "      <td>12/9/2011 12:50</td>\n",
       "      <td>2.10</td>\n",
       "      <td>12680.0</td>\n",
       "      <td>France</td>\n",
       "    </tr>\n",
       "    <tr>\n",
       "      <th>541906</th>\n",
       "      <td>581587</td>\n",
       "      <td>23254</td>\n",
       "      <td>CHILDRENS CUTLERY DOLLY GIRL</td>\n",
       "      <td>4</td>\n",
       "      <td>12/9/2011 12:50</td>\n",
       "      <td>4.15</td>\n",
       "      <td>12680.0</td>\n",
       "      <td>France</td>\n",
       "    </tr>\n",
       "    <tr>\n",
       "      <th>541907</th>\n",
       "      <td>581587</td>\n",
       "      <td>23255</td>\n",
       "      <td>CHILDRENS CUTLERY CIRCUS PARADE</td>\n",
       "      <td>4</td>\n",
       "      <td>12/9/2011 12:50</td>\n",
       "      <td>4.15</td>\n",
       "      <td>12680.0</td>\n",
       "      <td>France</td>\n",
       "    </tr>\n",
       "    <tr>\n",
       "      <th>541908</th>\n",
       "      <td>581587</td>\n",
       "      <td>22138</td>\n",
       "      <td>BAKING SET 9 PIECE RETROSPOT</td>\n",
       "      <td>3</td>\n",
       "      <td>12/9/2011 12:50</td>\n",
       "      <td>4.95</td>\n",
       "      <td>12680.0</td>\n",
       "      <td>France</td>\n",
       "    </tr>\n",
       "  </tbody>\n",
       "</table>\n",
       "<p>541909 rows × 8 columns</p>\n",
       "</div>"
      ],
      "text/plain": [
       "       InvoiceNo StockCode                          Description  Quantity  \\\n",
       "0         536365    85123A   WHITE HANGING HEART T-LIGHT HOLDER         6   \n",
       "1         536365     71053                  WHITE METAL LANTERN         6   \n",
       "2         536365    84406B       CREAM CUPID HEARTS COAT HANGER         8   \n",
       "3         536365    84029G  KNITTED UNION FLAG HOT WATER BOTTLE         6   \n",
       "4         536365    84029E       RED WOOLLY HOTTIE WHITE HEART.         6   \n",
       "...          ...       ...                                  ...       ...   \n",
       "541904    581587     22613          PACK OF 20 SPACEBOY NAPKINS        12   \n",
       "541905    581587     22899          CHILDREN'S APRON DOLLY GIRL         6   \n",
       "541906    581587     23254         CHILDRENS CUTLERY DOLLY GIRL         4   \n",
       "541907    581587     23255      CHILDRENS CUTLERY CIRCUS PARADE         4   \n",
       "541908    581587     22138         BAKING SET 9 PIECE RETROSPOT         3   \n",
       "\n",
       "            InvoiceDate  UnitPrice  CustomerID         Country  \n",
       "0        12/1/2010 8:26       2.55     17850.0  United Kingdom  \n",
       "1        12/1/2010 8:26       3.39     17850.0  United Kingdom  \n",
       "2        12/1/2010 8:26       2.75     17850.0  United Kingdom  \n",
       "3        12/1/2010 8:26       3.39     17850.0  United Kingdom  \n",
       "4        12/1/2010 8:26       3.39     17850.0  United Kingdom  \n",
       "...                 ...        ...         ...             ...  \n",
       "541904  12/9/2011 12:50       0.85     12680.0          France  \n",
       "541905  12/9/2011 12:50       2.10     12680.0          France  \n",
       "541906  12/9/2011 12:50       4.15     12680.0          France  \n",
       "541907  12/9/2011 12:50       4.15     12680.0          France  \n",
       "541908  12/9/2011 12:50       4.95     12680.0          France  \n",
       "\n",
       "[541909 rows x 8 columns]"
      ]
     },
     "execution_count": 21,
     "metadata": {},
     "output_type": "execute_result"
    }
   ],
   "source": [
    "df = pd.read_csv(\"OnlineRetail.csv\")  # Make sure file is in same folder\n",
    "print(\" Data Loaded Successfully\")\n",
    "df"
   ]
  },
  {
   "cell_type": "code",
   "execution_count": 22,
   "id": "2795dbd8",
   "metadata": {},
   "outputs": [
    {
     "name": "stdout",
     "output_type": "stream",
     "text": [
      "(541909, 8)\n",
      "Index(['InvoiceNo', 'StockCode', 'Description', 'Quantity', 'InvoiceDate',\n",
      "       'UnitPrice', 'CustomerID', 'Country'],\n",
      "      dtype='object')\n",
      "  InvoiceNo StockCode                          Description  Quantity  \\\n",
      "0    536365    85123A   WHITE HANGING HEART T-LIGHT HOLDER         6   \n",
      "1    536365     71053                  WHITE METAL LANTERN         6   \n",
      "2    536365    84406B       CREAM CUPID HEARTS COAT HANGER         8   \n",
      "3    536365    84029G  KNITTED UNION FLAG HOT WATER BOTTLE         6   \n",
      "4    536365    84029E       RED WOOLLY HOTTIE WHITE HEART.         6   \n",
      "\n",
      "      InvoiceDate  UnitPrice  CustomerID         Country  \n",
      "0  12/1/2010 8:26       2.55     17850.0  United Kingdom  \n",
      "1  12/1/2010 8:26       3.39     17850.0  United Kingdom  \n",
      "2  12/1/2010 8:26       2.75     17850.0  United Kingdom  \n",
      "3  12/1/2010 8:26       3.39     17850.0  United Kingdom  \n",
      "4  12/1/2010 8:26       3.39     17850.0  United Kingdom  \n",
      "\n",
      "Null values in each column:\n",
      "InvoiceNo           0\n",
      "StockCode           0\n",
      "Description      1454\n",
      "Quantity            0\n",
      "InvoiceDate         0\n",
      "UnitPrice           0\n",
      "CustomerID     135080\n",
      "Country             0\n",
      "dtype: int64\n"
     ]
    }
   ],
   "source": [
    "print(df.shape)\n",
    "print(df.columns)\n",
    "print(df.head())\n",
    "\n",
    "# Check null values\n",
    "print(\"\\nNull values in each column:\")\n",
    "print(df.isnull().sum())"
   ]
  },
  {
   "cell_type": "markdown",
   "id": "3f60b6e6-c26b-4338-b8ea-02b4f9cd25bf",
   "metadata": {},
   "source": [
    "# Step 4: Data Cleaning"
   ]
  },
  {
   "cell_type": "code",
   "execution_count": 23,
   "id": "c08682f2",
   "metadata": {},
   "outputs": [
    {
     "name": "stdout",
     "output_type": "stream",
     "text": [
      "Data Cleaned\n"
     ]
    }
   ],
   "source": [
    "# Remove missing Customer IDs\n",
    "df.dropna(subset=['CustomerID'], inplace=True)\n",
    "\n",
    "# Remove negative or 0 quantity transactions\n",
    "df = df[df['Quantity'] > 0]\n",
    "\n",
    "# Remove duplicates\n",
    "df.drop_duplicates(inplace=True)\n",
    "\n",
    "# Remove rows with missing description\n",
    "df.dropna(subset=['Description'], inplace=True)\n",
    "\n",
    "# Remove unwanted spaces in product names\n",
    "df['Description'] = df['Description'].str.strip()\n",
    "\n",
    "print(\"Data Cleaned\")"
   ]
  },
  {
   "cell_type": "code",
   "execution_count": 14,
   "id": "d2934b52-d614-456a-ba05-7d946c10bfde",
   "metadata": {},
   "outputs": [
    {
     "data": {
      "text/plain": [
       "InvoiceNo      0\n",
       "StockCode      0\n",
       "Description    0\n",
       "Quantity       0\n",
       "InvoiceDate    0\n",
       "UnitPrice      0\n",
       "CustomerID     0\n",
       "Country        0\n",
       "dtype: int64"
      ]
     },
     "execution_count": 14,
     "metadata": {},
     "output_type": "execute_result"
    }
   ],
   "source": [
    "df.isnull().sum()"
   ]
  },
  {
   "cell_type": "markdown",
   "id": "3a027c62-3869-41f3-89f9-1f453137c4d6",
   "metadata": {},
   "source": [
    "# Step 5: Optional - Filter Frequent Products"
   ]
  },
  {
   "cell_type": "code",
   "execution_count": 24,
   "id": "3925a585",
   "metadata": {},
   "outputs": [
    {
     "name": "stdout",
     "output_type": "stream",
     "text": [
      "Rare products removed (optional step)\n"
     ]
    }
   ],
   "source": [
    "popular_products = df['Description'].value_counts()\n",
    "df = df[df['Description'].isin(popular_products[popular_products > 50].index)]\n",
    "\n",
    "print(\"Rare products removed (optional step)\")"
   ]
  },
  {
   "cell_type": "markdown",
   "id": "29a135b8-d0de-4060-b213-5591cfe99ea1",
   "metadata": {},
   "source": [
    "# Step 6: Create Customer-Product Matrix"
   ]
  },
  {
   "cell_type": "code",
   "execution_count": 25,
   "id": "5c10ed59",
   "metadata": {},
   "outputs": [
    {
     "name": "stdout",
     "output_type": "stream",
     "text": [
      "Customer-Product Matrix Created\n"
     ]
    }
   ],
   "source": [
    "basket = df.pivot_table(index='CustomerID', \n",
    "                        columns='Description', \n",
    "                        values='Quantity', \n",
    "                        aggfunc='sum').fillna(0)\n",
    "\n",
    "print(\"Customer-Product Matrix Created\")"
   ]
  },
  {
   "cell_type": "markdown",
   "id": "31921b2e-bedd-490e-a248-ca8414bd0db3",
   "metadata": {},
   "source": [
    "# Step 7: Convert to Sparse Matrix & Compute Similarity"
   ]
  },
  {
   "cell_type": "code",
   "execution_count": 26,
   "id": "ce274c43",
   "metadata": {},
   "outputs": [
    {
     "name": "stdout",
     "output_type": "stream",
     "text": [
      "Item Similarity Matrix Ready\n"
     ]
    }
   ],
   "source": [
    "sparse_matrix = csr_matrix(basket)\n",
    "\n",
    "item_similarity = cosine_similarity(sparse_matrix.T)\n",
    "\n",
    "item_similarity_df = pd.DataFrame(item_similarity, \n",
    "                                  index=basket.columns, \n",
    "                                  columns=basket.columns)\n",
    "\n",
    "print(\"Item Similarity Matrix Ready\")"
   ]
  },
  {
   "cell_type": "markdown",
   "id": "1fd10697-159d-4e27-9785-a6bba99d857e",
   "metadata": {},
   "source": [
    "# Step 8: Recommend Function"
   ]
  },
  {
   "cell_type": "code",
   "execution_count": 27,
   "id": "d4723cd6",
   "metadata": {},
   "outputs": [],
   "source": [
    "def recommend_items(product_name, num_recommendations=5):\n",
    "    product_name = product_name.strip()\n",
    "    if product_name not in item_similarity_df.columns:\n",
    "        return \"Product not found in dataset.\"\n",
    "\n",
    "    print(f\"\\n Recommendations for: {product_name}\\n\")\n",
    "    similar_items = item_similarity_df[product_name].sort_values(ascending=False)[1:num_recommendations+1]\n",
    "\n",
    "    for i, (item, score) in enumerate(similar_items.items(), 1):\n",
    "        print(f\"{i}. {item} (Similarity Score: {score:.2f})\")"
   ]
  },
  {
   "cell_type": "markdown",
   "id": "3b8886a7-c0c1-46e0-9980-02d48e652b9c",
   "metadata": {},
   "source": [
    "# Step 9: Test the Recommender"
   ]
  },
  {
   "cell_type": "code",
   "execution_count": 28,
   "id": "0f0632f8",
   "metadata": {},
   "outputs": [
    {
     "name": "stdout",
     "output_type": "stream",
     "text": [
      "\n",
      " Recommendations for: CHILDREN'S APRON DOLLY GIRL\n",
      "\n",
      "1. 5 HOOK HANGER RED MAGIC TOADSTOOL (Similarity Score: 0.95)\n",
      "2. FOLDING BUTTERFLY MIRROR RED (Similarity Score: 0.93)\n",
      "3. FOOD CONTAINER SET 3 LOVE HEART (Similarity Score: 0.93)\n",
      "4. MAGNETS PACK OF 4 CHILDHOOD MEMORY (Similarity Score: 0.93)\n",
      "5. 36 FOIL HEART CAKE CASES (Similarity Score: 0.93)\n"
     ]
    }
   ],
   "source": [
    "# Replace with a real product name from the dataset\n",
    "test_product = \"CHILDREN'S APRON DOLLY GIRL\"\n",
    "recommend_items(test_product, num_recommendations=5)"
   ]
  }
 ],
 "metadata": {
  "kernelspec": {
   "display_name": "Python 3 (ipykernel)",
   "language": "python",
   "name": "python3"
  },
  "language_info": {
   "codemirror_mode": {
    "name": "ipython",
    "version": 3
   },
   "file_extension": ".py",
   "mimetype": "text/x-python",
   "name": "python",
   "nbconvert_exporter": "python",
   "pygments_lexer": "ipython3",
   "version": "3.11.5"
  }
 },
 "nbformat": 4,
 "nbformat_minor": 5
}
